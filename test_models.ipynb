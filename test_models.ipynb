{
 "cells": [
  {
   "cell_type": "code",
   "execution_count": 1,
   "metadata": {},
   "outputs": [],
   "source": [
    "%load_ext autoreload\n",
    "%autoreload 2"
   ]
  },
  {
   "cell_type": "code",
   "execution_count": 2,
   "metadata": {},
   "outputs": [],
   "source": [
    "import numpy as np\n",
    "import matplotlib.pyplot as plt\n",
    "import plotly.graph_objects as go\n",
    "import plotly.express as px\n",
    "import scipy  \n",
    "from tqdm import tqdm\n",
    "import os\n",
    "import torch\n",
    "from torch import nn\n",
    "import pytorch_lightning as pl\n",
    "from torch.utils.data import DataLoader,Dataset\n",
    "#from pytorch_lightning.core.datamodule import LightningDataModule\n",
    "from pytorch_lightning.core.lightning import LightningModule\n",
    "import sympy as sym\n",
    "from sympy.abc import x,y\n",
    "from pytorch_lightning.core.datamodule import LightningDataModule\n",
    "from pytorch_lightning import loggers as pl_loggers"
   ]
  },
  {
   "cell_type": "code",
   "execution_count": 3,
   "metadata": {},
   "outputs": [],
   "source": [
    "import os\n",
    "\n",
    "name_experiment = \"FourierNet__no_GRID_FourierNet__no_GRID\"\n",
    "version = \"0_1\"\n",
    "name_dir = 'logs/models_checkpoints/{}/{}/checkpoints'.format(name_experiment, version)\n",
    "file_name = os.listdir(name_dir)[0]\n",
    "\n",
    "checkpoint_dir = os.path.join(name_dir,file_name)"
   ]
  },
  {
   "cell_type": "code",
   "execution_count": 204,
   "metadata": {},
   "outputs": [],
   "source": [
    "name_experiment = \"BasicNorm_BasicNorm\"\n",
    "version = \"2_3\"\n",
    "name_dir = 'logs/models_checkpoints/{}/{}/checkpoints'.format(name_experiment, version)\n",
    "file_name = os.listdir(name_dir)[0]\n",
    "\n",
    "checkpoint_dir_2 = os.path.join(name_dir,file_name)"
   ]
  },
  {
   "cell_type": "code",
   "execution_count": 203,
   "metadata": {},
   "outputs": [
    {
     "data": {
      "text/plain": [
       "['FourierNet_GRID-early_stopping_min_delta_FourierNet_GRID-early_stopping_min_delta',\n",
       " 'FourierNet__less_modes_FourierNet__less_modes',\n",
       " 'experiment_FourierNet_experiment_FourierNet',\n",
       " 'experiment_BasicCNN_experiment_BasicCNN',\n",
       " 'experiment_CNNskipcon_experiment_CNNskipcon',\n",
       " 'BasicNorm_BasicNorm',\n",
       " 'FourierNet__no_GRID_FourierNet__no_GRID']"
      ]
     },
     "execution_count": 203,
     "metadata": {},
     "output_type": "execute_result"
    }
   ],
   "source": [
    "os.listdir(\"logs/models_checkpoints\")"
   ]
  },
  {
   "cell_type": "code",
   "execution_count": 153,
   "metadata": {},
   "outputs": [],
   "source": [
    "from section_1_models import FourierNet,ModelSim\n",
    "\n",
    "checkpoint = torch.load(checkpoint_dir)\n",
    "model = FourierNet\n",
    "\n",
    "class ModelWrap(torch.nn.Module):\n",
    "    def __init__(self,model):\n",
    "        super().__init__()\n",
    "        self._model = model(16,60, position_grid = False)\n",
    "        \n",
    "model = ModelWrap(model)\n",
    "model.load_state_dict(checkpoint[\"state_dict\"])\n",
    "\n",
    "model = model._model\n",
    "model.cuda()"
   ]
  },
  {
   "cell_type": "code",
   "execution_count": 207,
   "metadata": {
    "collapsed": true,
    "jupyter": {
     "outputs_hidden": true
    }
   },
   "outputs": [
    {
     "data": {
      "text/plain": [
       "BasicNet(\n",
       "  (_hidden_layers): ModuleList(\n",
       "    (0): ResidualBlock(\n",
       "      (norm): BatchNorm2d(70, eps=1e-05, momentum=0.1, affine=True, track_running_stats=True)\n",
       "      (_layers): ModuleList(\n",
       "        (0): Conv2d(1, 70, kernel_size=(3, 3), stride=(1, 1), padding=(1, 1))\n",
       "        (1): Conv2d(70, 70, kernel_size=(3, 3), stride=(1, 1), padding=(1, 1))\n",
       "      )\n",
       "      (_shortcut): Conv2d(1, 70, kernel_size=(3, 3), stride=(1, 1), padding=(1, 1))\n",
       "      (_activation): ReLU()\n",
       "    )\n",
       "    (1): ResidualBlock(\n",
       "      (norm): BatchNorm2d(70, eps=1e-05, momentum=0.1, affine=True, track_running_stats=True)\n",
       "      (_layers): ModuleList(\n",
       "        (0): Conv2d(70, 70, kernel_size=(3, 3), stride=(1, 1), padding=(1, 1))\n",
       "        (1): Conv2d(70, 70, kernel_size=(3, 3), stride=(1, 1), padding=(1, 1))\n",
       "      )\n",
       "      (_shortcut): Identity()\n",
       "      (_activation): ReLU()\n",
       "    )\n",
       "    (2): ResidualBlock(\n",
       "      (norm): BatchNorm2d(70, eps=1e-05, momentum=0.1, affine=True, track_running_stats=True)\n",
       "      (_layers): ModuleList(\n",
       "        (0): Conv2d(70, 70, kernel_size=(3, 3), stride=(1, 1), padding=(1, 1))\n",
       "        (1): Conv2d(70, 70, kernel_size=(3, 3), stride=(1, 1), padding=(1, 1))\n",
       "      )\n",
       "      (_shortcut): Identity()\n",
       "      (_activation): ReLU()\n",
       "    )\n",
       "    (3): ResidualBlock(\n",
       "      (norm): BatchNorm2d(70, eps=1e-05, momentum=0.1, affine=True, track_running_stats=True)\n",
       "      (_layers): ModuleList(\n",
       "        (0): Conv2d(70, 70, kernel_size=(3, 3), stride=(1, 1), padding=(1, 1))\n",
       "        (1): Conv2d(70, 70, kernel_size=(3, 3), stride=(1, 1), padding=(1, 1))\n",
       "      )\n",
       "      (_shortcut): Identity()\n",
       "      (_activation): ReLU()\n",
       "    )\n",
       "    (4): ResidualBlock(\n",
       "      (norm): BatchNorm2d(70, eps=1e-05, momentum=0.1, affine=True, track_running_stats=True)\n",
       "      (_layers): ModuleList(\n",
       "        (0): Conv2d(70, 70, kernel_size=(3, 3), stride=(1, 1), padding=(1, 1))\n",
       "        (1): Conv2d(70, 70, kernel_size=(3, 3), stride=(1, 1), padding=(1, 1))\n",
       "      )\n",
       "      (_shortcut): Identity()\n",
       "      (_activation): ReLU()\n",
       "    )\n",
       "    (5): ResidualBlock(\n",
       "      (norm): BatchNorm2d(70, eps=1e-05, momentum=0.1, affine=True, track_running_stats=True)\n",
       "      (_layers): ModuleList(\n",
       "        (0): Conv2d(70, 70, kernel_size=(3, 3), stride=(1, 1), padding=(1, 1))\n",
       "        (1): Conv2d(70, 70, kernel_size=(3, 3), stride=(1, 1), padding=(1, 1))\n",
       "      )\n",
       "      (_shortcut): Identity()\n",
       "      (_activation): ReLU()\n",
       "    )\n",
       "  )\n",
       "  (_out_layer): Conv2d(70, 1, kernel_size=(1, 1), stride=(1, 1))\n",
       "  (act_out): Tanh()\n",
       ")"
      ]
     },
     "execution_count": 207,
     "metadata": {},
     "output_type": "execute_result"
    }
   ],
   "source": [
    "from section_1_models import FourierNet,ModelSim,BasicNet\n",
    "\n",
    "checkpoint = torch.load(checkpoint_dir_2)\n",
    "model2 = BasicNet\n",
    "\n",
    "class ModelWrap(torch.nn.Module):\n",
    "    def __init__(self,model):\n",
    "        super().__init__()\n",
    "\n",
    "        self._model = model(1,70,1,blocks = [3,3,3,3,3,3], normalization = True )\n",
    "     \n",
    "model2 = ModelWrap(model2)\n",
    "model2.load_state_dict(checkpoint[\"state_dict\"])\n",
    "\n",
    "model2 = model2._model\n",
    "model2.cuda()"
   ]
  },
  {
   "cell_type": "code",
   "execution_count": 58,
   "metadata": {},
   "outputs": [],
   "source": [
    "from section_1_models import load_data\n",
    "\n",
    "data_dir = \"data/AC\"\n",
    "data_names,data_arrays = load_data(data_dir)\n",
    "trainnp = np.array(data_arrays[:160])\n",
    "testnp = np.array(data_arrays[160:])"
   ]
  },
  {
   "cell_type": "code",
   "execution_count": 333,
   "metadata": {},
   "outputs": [],
   "source": [
    "from utils import plot_phases,final_model_evaluationAC,plot_compare_2_models\n",
    "  \n",
    "final_model_evaluationAC(model, testnp, 6, results_dir = \"./results_presentation\",\n",
    "                         t0 = 10, t0_2 = 0, skip_gifs_1 = 2, skip_gifs_2 = 2,skip_save_corrupted = 2)\n",
    "\n",
    "final_model_evaluationAC(model2, testnp, 6, results_dir = \"./results_presentation\",\n",
    "                         t0 = 10, t0_2 = 0, skip_gifs_1 = 2, skip_gifs_2 = 2,skip_save_corrupted = 2)"
   ]
  },
  {
   "cell_type": "code",
   "execution_count": 336,
   "metadata": {},
   "outputs": [
    {
     "name": "stderr",
     "output_type": "stream",
     "text": [
      "100%|██████████| 6/6 [00:00<00:00, 16.54it/s]\n",
      "100%|██████████| 6/6 [00:00<00:00, 18.00it/s]\n"
     ]
    },
    {
     "data": {
      "image/png": "[encoded data removed]",
      "text/plain": [
       "<Figure size 864x864 with 1 Axes>"
      ]
     },
     "metadata": {},
     "output_type": "display_data"
    }
   ],
   "source": [
    "plot_compare_2_models(model,model2,testnp,6,t0_tf=(20,60),results_dir = \"./results_presentation\",\n",
    "                          names = [\"FNO\",\"CNN\"])"
   ]
  },
  {
   "cell_type": "code",
   "execution_count": null,
   "metadata": {},
   "outputs": [],
   "source": []
  },
  {
   "cell_type": "code",
   "execution_count": null,
   "metadata": {},
   "outputs": [],
   "source": []
  }
 ],
 "metadata": {
  "kernelspec": {
   "display_name": "Python 3",
   "language": "python",
   "name": "python3"
  },
  "language_info": {
   "codemirror_mode": {
    "name": "ipython",
    "version": 3
   },
   "file_extension": ".py",
   "mimetype": "text/x-python",
   "name": "python",
   "nbconvert_exporter": "python",
   "pygments_lexer": "ipython3",
   "version": "3.8.2"
  }
 },
 "nbformat": 4,
 "nbformat_minor": 4
}
